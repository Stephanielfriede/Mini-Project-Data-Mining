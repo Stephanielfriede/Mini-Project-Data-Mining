{
  "nbformat": 4,
  "nbformat_minor": 0,
  "metadata": {
    "colab": {
      "provenance": []
    },
    "kernelspec": {
      "name": "python3",
      "display_name": "Python 3"
    },
    "language_info": {
      "name": "python"
    }
  },
  "cells": [
    {
      "cell_type": "markdown",
      "source": [
        "#Analisis Faktor-Faktor yang Mempengaruhi Penjualan Manga di Dunia"
      ],
      "metadata": {
        "id": "2SI2PRo0JhVl"
      }
    },
    {
      "cell_type": "markdown",
      "source": [
        "##Business Understanding"
      ],
      "metadata": {
        "id": "f6K9z3ue90Iq"
      }
    },
    {
      "cell_type": "markdown",
      "source": [
        "###Bussines Objective\n"
      ],
      "metadata": {
        "id": "eSiAb-uz96DB"
      }
    },
    {
      "cell_type": "markdown",
      "source": [
        "####Tujuan utama dari proyek ini adalah untuk mencari tahu mengapa beberapa manga menjadi sangat laris di pasaran. Dan ingin mengetahui faktor-faktor apa yang membuat manga tersebut sukses dalam penjualannya. Hal-hal tersebut penting agar penerbit, penulis, dan pembaca dapat memahami lebih baik tentang apa yang membuat manga menjadi populer dan bagaimana faktor-faktor tersebut mempengaruhi kesuksesan penjualannya.\n"
      ],
      "metadata": {
        "id": "VTK2_91r-L07"
      }
    },
    {
      "cell_type": "markdown",
      "source": [
        "###Assess Situation"
      ],
      "metadata": {
        "id": "0N6C5lEg-Yo7"
      }
    },
    {
      "cell_type": "markdown",
      "source": [
        "####Saat ini, manga sedang sangat populer dan memiliki banyak penggemar di seluruh dunia. Dengan meningkatnya minat terhadap manga, penting untuk memahami mengapa beberapa manga menjadi best seller sementara yang lain tidak. Beberapa faktor yang mungkin mempengaruhi penjualan manga adalah jenis ceritanya, gaya seni, dan cara promosinya. Namun, tidak semua manga bisa mencapai tingkat penjualan yang tinggi, jadi kita perlu mencari tahu apa yang membedakan manga best seller dari yang lain.\n"
      ],
      "metadata": {
        "id": "wiJoO3H6-eZo"
      }
    },
    {
      "cell_type": "markdown",
      "source": [
        "###Data Mining Goals\n",
        "\n"
      ],
      "metadata": {
        "id": "cWVDijKf-lmM"
      }
    },
    {
      "cell_type": "markdown",
      "source": [
        "####Tujuan dari tahap ini adalah untuk menganalisis data penjualan manga best seller dan mencari pola-pola yang mungkin tersembunyi di dalamnya. Kita ingin mengetahui apakah ada hubungan antara faktor-faktor seperti jenis cerita, penerbit, atau demografi pembacanya dengan kesuksesan penjualan manga. Informasi ini akan membantu kita memberikan saran kepada penerbit manga atau penulis untuk meningkatkan penjualan manga mereka.\n"
      ],
      "metadata": {
        "id": "d2pefYPF-oiQ"
      }
    },
    {
      "cell_type": "markdown",
      "source": [
        "###Project Plan"
      ],
      "metadata": {
        "id": "8thNm9Jy-xkA"
      }
    },
    {
      "cell_type": "markdown",
      "source": [
        "####Proyek dimulai dengan mengumpulkan informasi tentang manga terlaris, seperti judul, penulis, penerbit, jenis pembaca, jumlah buku, tanggal rilis, dan jumlah penjualan. Setelah data terkumpul, langkah selanjutnya adalah  menyiapkan data untuk analisis. Kemudian, melihat pola umum dan hubungan antar data. Setelah itu, mencoba menemukan faktor-faktor yang mempengaruhi penjualan menggunakan teknik analisis data. Evaluasi akan dilakukan untuk melihat seberapa baik model-model yang dibuat dapat memprediksi penjualan. Berdasarkan hasil analisis, rekomendasi akan diberikan kepada penerbit atau penulis. Proyek akan ditutup dengan penyusunan laporan akhir untuk memberikan pemahaman yang lebih baik tentang tren penjualan manga."
      ],
      "metadata": {
        "id": "b96muJBW-0ZB"
      }
    }
  ]
}